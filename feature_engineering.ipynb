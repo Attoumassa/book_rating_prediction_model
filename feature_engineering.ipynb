{
 "cells": [
  {
   "cell_type": "markdown",
   "id": "53374c72",
   "metadata": {},
   "source": [
    "# Book rating regression project"
   ]
  },
  {
   "cell_type": "markdown",
   "id": "f4654768",
   "metadata": {},
   "source": [
    "## Loading the dataset"
   ]
  },
  {
   "cell_type": "code",
   "execution_count": 1,
   "id": "45c2bcf0",
   "metadata": {},
   "outputs": [],
   "source": [
    "import pandas as pd"
   ]
  },
  {
   "cell_type": "code",
   "execution_count": 2,
   "id": "9664c297",
   "metadata": {},
   "outputs": [
    {
     "name": "stderr",
     "output_type": "stream",
     "text": [
      "Skipping line 3350: expected 12 fields, saw 13\n",
      "Skipping line 4704: expected 12 fields, saw 13\n",
      "Skipping line 5879: expected 12 fields, saw 13\n",
      "Skipping line 8981: expected 12 fields, saw 13\n",
      "\n"
     ]
    }
   ],
   "source": [
    "raw_df = pd.read_csv(\n",
    "    filepath_or_buffer=\"data/books.csv\",\n",
    "    on_bad_lines=\"warn\",\n",
    "    sep=\",\",\n",
    "    skipinitialspace=True,\n",
    ")"
   ]
  },
  {
   "cell_type": "markdown",
   "id": "e4a4cdc5",
   "metadata": {},
   "source": [
    "We notice how some rows had too many fields. The `on_bad_lines=\"warn\"` argument skips them for us. When we go look at those rows in the csv file, we notice that some books had comas `,` in their title or authors names.\n",
    "For example for line 3350 is as follows:\n",
    "`12224,Streetcar Suburbs: The Process of Growth in Boston  1870-1900,Sam Bass Warner, Jr./Sam B. Warner,3.58,0674842111,9780674842113,en-US,236,61,6,4/20/2004,Harvard University Press`\n",
    "The author name is contains a coma `Sam Bass Warner, Jr./Sam B. Warner`.\n",
    "\n",
    "We will skip those lines for now."
   ]
  },
  {
   "cell_type": "code",
   "execution_count": 3,
   "id": "e717ede7",
   "metadata": {},
   "outputs": [
    {
     "data": {
      "text/html": [
       "<div>\n",
       "<style scoped>\n",
       "    .dataframe tbody tr th:only-of-type {\n",
       "        vertical-align: middle;\n",
       "    }\n",
       "\n",
       "    .dataframe tbody tr th {\n",
       "        vertical-align: top;\n",
       "    }\n",
       "\n",
       "    .dataframe thead th {\n",
       "        text-align: right;\n",
       "    }\n",
       "</style>\n",
       "<table border=\"1\" class=\"dataframe\">\n",
       "  <thead>\n",
       "    <tr style=\"text-align: right;\">\n",
       "      <th></th>\n",
       "      <th>bookID</th>\n",
       "      <th>title</th>\n",
       "      <th>authors</th>\n",
       "      <th>average_rating</th>\n",
       "      <th>isbn</th>\n",
       "      <th>isbn13</th>\n",
       "      <th>language_code</th>\n",
       "      <th>num_pages</th>\n",
       "      <th>ratings_count</th>\n",
       "      <th>text_reviews_count</th>\n",
       "      <th>publication_date</th>\n",
       "      <th>publisher</th>\n",
       "    </tr>\n",
       "  </thead>\n",
       "  <tbody>\n",
       "    <tr>\n",
       "      <th>0</th>\n",
       "      <td>1</td>\n",
       "      <td>Harry Potter and the Half-Blood Prince (Harry ...</td>\n",
       "      <td>J.K. Rowling/Mary GrandPré</td>\n",
       "      <td>4.57</td>\n",
       "      <td>0439785960</td>\n",
       "      <td>9780439785969</td>\n",
       "      <td>eng</td>\n",
       "      <td>652</td>\n",
       "      <td>2095690</td>\n",
       "      <td>27591</td>\n",
       "      <td>9/16/2006</td>\n",
       "      <td>Scholastic Inc.</td>\n",
       "    </tr>\n",
       "    <tr>\n",
       "      <th>1</th>\n",
       "      <td>2</td>\n",
       "      <td>Harry Potter and the Order of the Phoenix (Har...</td>\n",
       "      <td>J.K. Rowling/Mary GrandPré</td>\n",
       "      <td>4.49</td>\n",
       "      <td>0439358078</td>\n",
       "      <td>9780439358071</td>\n",
       "      <td>eng</td>\n",
       "      <td>870</td>\n",
       "      <td>2153167</td>\n",
       "      <td>29221</td>\n",
       "      <td>9/1/2004</td>\n",
       "      <td>Scholastic Inc.</td>\n",
       "    </tr>\n",
       "    <tr>\n",
       "      <th>2</th>\n",
       "      <td>4</td>\n",
       "      <td>Harry Potter and the Chamber of Secrets (Harry...</td>\n",
       "      <td>J.K. Rowling</td>\n",
       "      <td>4.42</td>\n",
       "      <td>0439554896</td>\n",
       "      <td>9780439554893</td>\n",
       "      <td>eng</td>\n",
       "      <td>352</td>\n",
       "      <td>6333</td>\n",
       "      <td>244</td>\n",
       "      <td>11/1/2003</td>\n",
       "      <td>Scholastic</td>\n",
       "    </tr>\n",
       "    <tr>\n",
       "      <th>3</th>\n",
       "      <td>5</td>\n",
       "      <td>Harry Potter and the Prisoner of Azkaban (Harr...</td>\n",
       "      <td>J.K. Rowling/Mary GrandPré</td>\n",
       "      <td>4.56</td>\n",
       "      <td>043965548X</td>\n",
       "      <td>9780439655484</td>\n",
       "      <td>eng</td>\n",
       "      <td>435</td>\n",
       "      <td>2339585</td>\n",
       "      <td>36325</td>\n",
       "      <td>5/1/2004</td>\n",
       "      <td>Scholastic Inc.</td>\n",
       "    </tr>\n",
       "    <tr>\n",
       "      <th>4</th>\n",
       "      <td>8</td>\n",
       "      <td>Harry Potter Boxed Set  Books 1-5 (Harry Potte...</td>\n",
       "      <td>J.K. Rowling/Mary GrandPré</td>\n",
       "      <td>4.78</td>\n",
       "      <td>0439682584</td>\n",
       "      <td>9780439682589</td>\n",
       "      <td>eng</td>\n",
       "      <td>2690</td>\n",
       "      <td>41428</td>\n",
       "      <td>164</td>\n",
       "      <td>9/13/2004</td>\n",
       "      <td>Scholastic</td>\n",
       "    </tr>\n",
       "  </tbody>\n",
       "</table>\n",
       "</div>"
      ],
      "text/plain": [
       "   bookID                                              title  \\\n",
       "0       1  Harry Potter and the Half-Blood Prince (Harry ...   \n",
       "1       2  Harry Potter and the Order of the Phoenix (Har...   \n",
       "2       4  Harry Potter and the Chamber of Secrets (Harry...   \n",
       "3       5  Harry Potter and the Prisoner of Azkaban (Harr...   \n",
       "4       8  Harry Potter Boxed Set  Books 1-5 (Harry Potte...   \n",
       "\n",
       "                      authors  average_rating        isbn         isbn13  \\\n",
       "0  J.K. Rowling/Mary GrandPré            4.57  0439785960  9780439785969   \n",
       "1  J.K. Rowling/Mary GrandPré            4.49  0439358078  9780439358071   \n",
       "2                J.K. Rowling            4.42  0439554896  9780439554893   \n",
       "3  J.K. Rowling/Mary GrandPré            4.56  043965548X  9780439655484   \n",
       "4  J.K. Rowling/Mary GrandPré            4.78  0439682584  9780439682589   \n",
       "\n",
       "  language_code  num_pages  ratings_count  text_reviews_count  \\\n",
       "0           eng        652        2095690               27591   \n",
       "1           eng        870        2153167               29221   \n",
       "2           eng        352           6333                 244   \n",
       "3           eng        435        2339585               36325   \n",
       "4           eng       2690          41428                 164   \n",
       "\n",
       "  publication_date        publisher  \n",
       "0        9/16/2006  Scholastic Inc.  \n",
       "1         9/1/2004  Scholastic Inc.  \n",
       "2        11/1/2003       Scholastic  \n",
       "3         5/1/2004  Scholastic Inc.  \n",
       "4        9/13/2004       Scholastic  "
      ]
     },
     "execution_count": 3,
     "metadata": {},
     "output_type": "execute_result"
    }
   ],
   "source": [
    "raw_df.head()"
   ]
  },
  {
   "cell_type": "code",
   "execution_count": 4,
   "id": "c848d6de",
   "metadata": {},
   "outputs": [
    {
     "data": {
      "text/plain": [
       "(11123, 12)"
      ]
     },
     "execution_count": 4,
     "metadata": {},
     "output_type": "execute_result"
    }
   ],
   "source": [
    "raw_df.shape"
   ]
  },
  {
   "cell_type": "code",
   "execution_count": 5,
   "id": "4db36a7f",
   "metadata": {},
   "outputs": [
    {
     "data": {
      "text/plain": [
       "count            11123\n",
       "unique            6639\n",
       "top       Stephen King\n",
       "freq                40\n",
       "Name: authors, dtype: object"
      ]
     },
     "execution_count": 5,
     "metadata": {},
     "output_type": "execute_result"
    }
   ],
   "source": [
    "raw_df.authors.describe()"
   ]
  },
  {
   "cell_type": "code",
   "execution_count": 6,
   "id": "ae47b1d4",
   "metadata": {},
   "outputs": [
    {
     "data": {
      "text/plain": [
       "count         11123\n",
       "unique        10348\n",
       "top       The Iliad\n",
       "freq              9\n",
       "Name: title, dtype: object"
      ]
     },
     "execution_count": 6,
     "metadata": {},
     "output_type": "execute_result"
    }
   ],
   "source": [
    "raw_df.title.describe()"
   ]
  },
  {
   "cell_type": "markdown",
   "id": "73a86b06",
   "metadata": {},
   "source": [
    "Checking for NA values:"
   ]
  },
  {
   "cell_type": "code",
   "execution_count": 7,
   "id": "0f54da86",
   "metadata": {},
   "outputs": [
    {
     "data": {
      "text/plain": [
       "bookID                0\n",
       "title                 0\n",
       "authors               0\n",
       "average_rating        0\n",
       "isbn                  0\n",
       "isbn13                0\n",
       "language_code         0\n",
       "num_pages             0\n",
       "ratings_count         0\n",
       "text_reviews_count    0\n",
       "publication_date      0\n",
       "publisher             0\n",
       "dtype: int64"
      ]
     },
     "execution_count": 7,
     "metadata": {},
     "output_type": "execute_result"
    }
   ],
   "source": [
    "raw_df.isna().sum()"
   ]
  },
  {
   "cell_type": "markdown",
   "id": "12b3ca11",
   "metadata": {},
   "source": [
    "Great, we have no NA values. The dataset is now clean"
   ]
  },
  {
   "cell_type": "code",
   "execution_count": 8,
   "id": "9b4f83f3",
   "metadata": {},
   "outputs": [],
   "source": [
    "df = raw_df"
   ]
  },
  {
   "cell_type": "code",
   "execution_count": 9,
   "id": "4de6ff90",
   "metadata": {
    "scrolled": true
   },
   "outputs": [
    {
     "data": {
      "text/html": [
       "<div>\n",
       "<style scoped>\n",
       "    .dataframe tbody tr th:only-of-type {\n",
       "        vertical-align: middle;\n",
       "    }\n",
       "\n",
       "    .dataframe tbody tr th {\n",
       "        vertical-align: top;\n",
       "    }\n",
       "\n",
       "    .dataframe thead th {\n",
       "        text-align: right;\n",
       "    }\n",
       "</style>\n",
       "<table border=\"1\" class=\"dataframe\">\n",
       "  <thead>\n",
       "    <tr style=\"text-align: right;\">\n",
       "      <th></th>\n",
       "      <th>bookID</th>\n",
       "      <th>average_rating</th>\n",
       "      <th>isbn13</th>\n",
       "      <th>num_pages</th>\n",
       "      <th>ratings_count</th>\n",
       "      <th>text_reviews_count</th>\n",
       "    </tr>\n",
       "  </thead>\n",
       "  <tbody>\n",
       "    <tr>\n",
       "      <th>count</th>\n",
       "      <td>11123.000000</td>\n",
       "      <td>11123.000000</td>\n",
       "      <td>1.112300e+04</td>\n",
       "      <td>11123.000000</td>\n",
       "      <td>1.112300e+04</td>\n",
       "      <td>11123.000000</td>\n",
       "    </tr>\n",
       "    <tr>\n",
       "      <th>mean</th>\n",
       "      <td>21310.856963</td>\n",
       "      <td>3.934075</td>\n",
       "      <td>9.759880e+12</td>\n",
       "      <td>336.405556</td>\n",
       "      <td>1.794285e+04</td>\n",
       "      <td>542.048099</td>\n",
       "    </tr>\n",
       "    <tr>\n",
       "      <th>std</th>\n",
       "      <td>13094.727252</td>\n",
       "      <td>0.350485</td>\n",
       "      <td>4.429758e+11</td>\n",
       "      <td>241.152626</td>\n",
       "      <td>1.124992e+05</td>\n",
       "      <td>2576.619589</td>\n",
       "    </tr>\n",
       "    <tr>\n",
       "      <th>min</th>\n",
       "      <td>1.000000</td>\n",
       "      <td>0.000000</td>\n",
       "      <td>8.987060e+09</td>\n",
       "      <td>0.000000</td>\n",
       "      <td>0.000000e+00</td>\n",
       "      <td>0.000000</td>\n",
       "    </tr>\n",
       "    <tr>\n",
       "      <th>25%</th>\n",
       "      <td>10277.500000</td>\n",
       "      <td>3.770000</td>\n",
       "      <td>9.780345e+12</td>\n",
       "      <td>192.000000</td>\n",
       "      <td>1.040000e+02</td>\n",
       "      <td>9.000000</td>\n",
       "    </tr>\n",
       "    <tr>\n",
       "      <th>50%</th>\n",
       "      <td>20287.000000</td>\n",
       "      <td>3.960000</td>\n",
       "      <td>9.780582e+12</td>\n",
       "      <td>299.000000</td>\n",
       "      <td>7.450000e+02</td>\n",
       "      <td>47.000000</td>\n",
       "    </tr>\n",
       "    <tr>\n",
       "      <th>75%</th>\n",
       "      <td>32104.500000</td>\n",
       "      <td>4.140000</td>\n",
       "      <td>9.780872e+12</td>\n",
       "      <td>416.000000</td>\n",
       "      <td>5.000500e+03</td>\n",
       "      <td>238.000000</td>\n",
       "    </tr>\n",
       "    <tr>\n",
       "      <th>max</th>\n",
       "      <td>45641.000000</td>\n",
       "      <td>5.000000</td>\n",
       "      <td>9.790008e+12</td>\n",
       "      <td>6576.000000</td>\n",
       "      <td>4.597666e+06</td>\n",
       "      <td>94265.000000</td>\n",
       "    </tr>\n",
       "  </tbody>\n",
       "</table>\n",
       "</div>"
      ],
      "text/plain": [
       "             bookID  average_rating        isbn13     num_pages  \\\n",
       "count  11123.000000    11123.000000  1.112300e+04  11123.000000   \n",
       "mean   21310.856963        3.934075  9.759880e+12    336.405556   \n",
       "std    13094.727252        0.350485  4.429758e+11    241.152626   \n",
       "min        1.000000        0.000000  8.987060e+09      0.000000   \n",
       "25%    10277.500000        3.770000  9.780345e+12    192.000000   \n",
       "50%    20287.000000        3.960000  9.780582e+12    299.000000   \n",
       "75%    32104.500000        4.140000  9.780872e+12    416.000000   \n",
       "max    45641.000000        5.000000  9.790008e+12   6576.000000   \n",
       "\n",
       "       ratings_count  text_reviews_count  \n",
       "count   1.112300e+04        11123.000000  \n",
       "mean    1.794285e+04          542.048099  \n",
       "std     1.124992e+05         2576.619589  \n",
       "min     0.000000e+00            0.000000  \n",
       "25%     1.040000e+02            9.000000  \n",
       "50%     7.450000e+02           47.000000  \n",
       "75%     5.000500e+03          238.000000  \n",
       "max     4.597666e+06        94265.000000  "
      ]
     },
     "execution_count": 9,
     "metadata": {},
     "output_type": "execute_result"
    }
   ],
   "source": [
    "df.describe()"
   ]
  },
  {
   "cell_type": "markdown",
   "id": "204009b2",
   "metadata": {},
   "source": [
    "## Preliminary analysis"
   ]
  },
  {
   "cell_type": "markdown",
   "id": "50475ebf",
   "metadata": {},
   "source": [
    "**Questions:**\n",
    "- Is the data balanced?\n",
    "- Which features are useful and which aren't?"
   ]
  },
  {
   "cell_type": "code",
   "execution_count": 10,
   "id": "da917cb7",
   "metadata": {},
   "outputs": [],
   "source": [
    "import matplotlib.pyplot as plt\n",
    "import seaborn as sns\n",
    "%matplotlib inline"
   ]
  },
  {
   "cell_type": "markdown",
   "id": "725080ac",
   "metadata": {},
   "source": [
    "We will plot the distributions of the main numerical features:\n",
    "- number of pages\n",
    "- number of ratings\n",
    "- number of reviews\n",
    "- average rating"
   ]
  },
  {
   "cell_type": "code",
   "execution_count": 11,
   "id": "365bbd1c",
   "metadata": {},
   "outputs": [
    {
     "data": {
      "image/png": "[encoded data removed]",
      "text/plain": [
       "<Figure size 432x288 with 1 Axes>"
      ]
     },
     "metadata": {
      "needs_background": "light"
     },
     "output_type": "display_data"
    }
   ],
   "source": [
    "plt.hist(df[\"num_pages\"], bins=50)\n",
    "plt.yscale(\"log\")\n",
    "plt.show()"
   ]
  },
  {
   "cell_type": "code",
   "execution_count": 12,
   "id": "3498542e",
   "metadata": {},
   "outputs": [
    {
     "data": {
      "image/png": "[encoded data removed]",
      "text/plain": [
       "<Figure size 432x288 with 1 Axes>"
      ]
     },
     "metadata": {
      "needs_background": "light"
     },
     "output_type": "display_data"
    }
   ],
   "source": [
    "plt.hist(df[\"ratings_count\"], bins=50)\n",
    "plt.yscale(\"log\")\n",
    "plt.show()"
   ]
  },
  {
   "cell_type": "code",
   "execution_count": 13,
   "id": "ae2241ba",
   "metadata": {},
   "outputs": [
    {
     "data": {
      "image/png": "[encoded data removed]",
      "text/plain": [
       "<Figure size 432x288 with 1 Axes>"
      ]
     },
     "metadata": {
      "needs_background": "light"
     },
     "output_type": "display_data"
    }
   ],
   "source": [
    "plt.hist(df[\"text_reviews_count\"], bins=50)\n",
    "plt.yscale(\"log\")\n",
    "plt.show()"
   ]
  },
  {
   "cell_type": "code",
   "execution_count": 14,
   "id": "9bc874c0",
   "metadata": {},
   "outputs": [
    {
     "data": {
      "image/png": "[encoded data removed]",
      "text/plain": [
       "<Figure size 432x288 with 1 Axes>"
      ]
     },
     "metadata": {
      "needs_background": "light"
     },
     "output_type": "display_data"
    }
   ],
   "source": [
    "plt.hist(df[\"average_rating\"], bins=50)\n",
    "plt.show()"
   ]
  },
  {
   "cell_type": "markdown",
   "id": "e8877713",
   "metadata": {},
   "source": [
    "We notice immediately that the target feature `average_rating` is skewed towards an average of 4. It resembles a normal distribution.\n",
    "We will have to take this into consideration when creating the training and testing sets: these sets should both include books with a wide range of average ratings."
   ]
  },
  {
   "cell_type": "code",
   "execution_count": 15,
   "id": "25ce4b01",
   "metadata": {},
   "outputs": [
    {
     "name": "stderr",
     "output_type": "stream",
     "text": [
      "/tmp/ipykernel_54491/3147368345.py:1: FutureWarning: The default value of numeric_only in DataFrame.corr is deprecated. In a future version, it will default to False. Select only valid columns or specify the value of numeric_only to silence this warning.\n",
      "  corr_matrix = df.corr()\n"
     ]
    }
   ],
   "source": [
    "corr_matrix = df.corr()"
   ]
  },
  {
   "cell_type": "code",
   "execution_count": 16,
   "id": "82f3b827",
   "metadata": {},
   "outputs": [
    {
     "data": {
      "image/png": "[encoded data removed]",
      "text/plain": [
       "<Figure size 576x504 with 2 Axes>"
      ]
     },
     "metadata": {
      "needs_background": "light"
     },
     "output_type": "display_data"
    }
   ],
   "source": [
    "plt.figure(figsize=(8, 7))\n",
    "sns.heatmap(corr_matrix, annot=True)\n",
    "plt.show()"
   ]
  },
  {
   "cell_type": "markdown",
   "id": "abc041fe",
   "metadata": {},
   "source": [
    "We are particularly interested in the correlations between `average_rating` and other features. We make a few observations:\n",
    "- `average_rating` has no substantial correlation with `isnb13` which should be expected\n",
    "- `average_rating` slighty correlates with `ratings_count` and `text_reviews_count`. Meaning that on average, books with more ratings and reviews tend to have slightly better ratings\n",
    "- `average_rating` correlates positively with `num_pages` in decent amounts\n",
    "- `average_rating` slighty correlates negatively with `bookID`. This has no reason to be the case and is likely just noise from the random ordering of the dataset."
   ]
  },
  {
   "cell_type": "markdown",
   "id": "f2699978",
   "metadata": {},
   "source": [
    "In the next section, we will try to see if the age of the book could be an interesting feature. In particular, does the age of the book have an impact on the average rating ?"
   ]
  },
  {
   "cell_type": "code",
   "execution_count": 17,
   "id": "52387fe8",
   "metadata": {},
   "outputs": [],
   "source": [
    "from datetime import datetime, MINYEAR, timedelta\n",
    "from time import strptime"
   ]
  },
  {
   "cell_type": "code",
   "execution_count": 18,
   "id": "aa3d11c0",
   "metadata": {},
   "outputs": [],
   "source": [
    "def date_to_datetime(date):\n",
    "    try:\n",
    "        new_time_format = datetime.strptime(date, \"%m/%d/%Y\")\n",
    "        return new_time_format\n",
    "    except ValueError:\n",
    "        newdate = date.split(\"/\")\n",
    "        if newdate[1] == \"31\":\n",
    "            newdate[1] = \"30\"\n",
    "        newdate = newdate[0] + \"/\" + newdate[1] + \"/\" + newdate[2]\n",
    "        return datetime.strptime(newdate, \"%m/%d/%Y\")"
   ]
  },
  {
   "cell_type": "code",
   "execution_count": 19,
   "id": "61376ed5",
   "metadata": {},
   "outputs": [],
   "source": [
    "df[\"publication_date\"] = df[\"publication_date\"].apply(date_to_datetime)"
   ]
  },
  {
   "cell_type": "code",
   "execution_count": 20,
   "id": "8a30d1c2",
   "metadata": {},
   "outputs": [],
   "source": [
    "oldest_book = min(df[\"publication_date\"])\n",
    "newest_book = max(df[\"publication_date\"])"
   ]
  },
  {
   "cell_type": "code",
   "execution_count": 21,
   "id": "fe72764c",
   "metadata": {},
   "outputs": [],
   "source": [
    "def normalise_age(book_date):\n",
    "    return (book_date.timestamp() - oldest_book.timestamp()) / (newest_book.timestamp() - oldest_book.timestamp())\n"
   ]
  },
  {
   "cell_type": "code",
   "execution_count": 22,
   "id": "d4f77bba",
   "metadata": {},
   "outputs": [],
   "source": [
    "df[\"normalised_age\"] = df[\"publication_date\"].apply(normalise_age)"
   ]
  },
  {
   "cell_type": "markdown",
   "id": "c234a095",
   "metadata": {},
   "source": [
    "\n",
    "\n",
    "We have created a feature which describes the age of the book where 0 is the oldest book in the dataset (Consider the Lilies) and 1 is the most recent book (A Quick Bite (Argeneau #1))\n",
    "Let's look the distribution of book age and how this feature correlates with the average_rating"
   ]
  },
  {
   "cell_type": "code",
   "execution_count": 23,
   "id": "536e406f",
   "metadata": {},
   "outputs": [
    {
     "data": {
      "image/png": "[encoded data removed]",
      "text/plain": [
       "<Figure size 432x288 with 1 Axes>"
      ]
     },
     "metadata": {
      "needs_background": "light"
     },
     "output_type": "display_data"
    }
   ],
   "source": [
    "plt.hist(df[\"normalised_age\"], bins=50)\n",
    "plt.show()"
   ]
  },
  {
   "cell_type": "markdown",
   "id": "13585a75",
   "metadata": {},
   "source": [
    "We see that the age distribution isn't balanced. most books from the dataset have been published in the second half of the 20th century."
   ]
  },
  {
   "cell_type": "code",
   "execution_count": 24,
   "id": "3046df34",
   "metadata": {},
   "outputs": [
    {
     "name": "stderr",
     "output_type": "stream",
     "text": [
      "/tmp/ipykernel_54491/2933625568.py:1: FutureWarning: The default value of numeric_only in DataFrame.corr is deprecated. In a future version, it will default to False. Select only valid columns or specify the value of numeric_only to silence this warning.\n",
      "  corr_matrix = df.corr()\n"
     ]
    },
    {
     "data": {
      "image/png": "[encoded data removed]",
      "text/plain": [
       "<Figure size 576x504 with 2 Axes>"
      ]
     },
     "metadata": {
      "needs_background": "light"
     },
     "output_type": "display_data"
    }
   ],
   "source": [
    "corr_matrix = df.corr()\n",
    "plt.figure(figsize=(8, 7))\n",
    "sns.heatmap(corr_matrix, annot=True)\n",
    "plt.show()"
   ]
  },
  {
   "cell_type": "code",
   "execution_count": 25,
   "id": "4cd17638",
   "metadata": {},
   "outputs": [
    {
     "name": "stdout",
     "output_type": "stream",
     "text": [
      "Correlation between average_rating and age: -0.031\n"
     ]
    }
   ],
   "source": [
    "print(\"Correlation between average_rating and age:\", round(corr_matrix[\"average_rating\"][\"normalised_age\"], 3))"
   ]
  },
  {
   "cell_type": "markdown",
   "id": "7c378b74",
   "metadata": {},
   "source": [
    "The `normalised_age` slightly anticorrelates with the average rating. This means that on average, older books have slightly better ratings than more modern books."
   ]
  },
  {
   "cell_type": "code",
   "execution_count": 26,
   "id": "87169981",
   "metadata": {},
   "outputs": [],
   "source": [
    "df = df.drop(\"publication_date\", axis=1)"
   ]
  },
  {
   "cell_type": "markdown",
   "id": "c3835c44",
   "metadata": {},
   "source": [
    "## Feature Engineering"
   ]
  },
  {
   "cell_type": "markdown",
   "id": "85fe05ce",
   "metadata": {},
   "source": [
    "We need to figure out which features can be use to predict the `average_rating`. The easy and obvious features are `nb_ratings`, `nb_reviews` and `nb_pages`. What about the book age ? Or the language ? Can we use this data to actually predict the average rating ?"
   ]
  },
  {
   "cell_type": "markdown",
   "id": "a7689f4c",
   "metadata": {},
   "source": [
    "### Removing unused data"
   ]
  },
  {
   "cell_type": "code",
   "execution_count": 27,
   "id": "4997fd58",
   "metadata": {},
   "outputs": [
    {
     "data": {
      "text/plain": [
       "Index(['bookID', 'title', 'authors', 'average_rating', 'isbn', 'isbn13',\n",
       "       'language_code', 'num_pages', 'ratings_count', 'text_reviews_count',\n",
       "       'publisher', 'normalised_age'],\n",
       "      dtype='object')"
      ]
     },
     "execution_count": 27,
     "metadata": {},
     "output_type": "execute_result"
    }
   ],
   "source": [
    "df.columns"
   ]
  },
  {
   "cell_type": "code",
   "execution_count": 28,
   "id": "a3e84d8d",
   "metadata": {},
   "outputs": [],
   "source": [
    "df = df.drop([\"bookID\", \"isbn\", \"isbn13\"], axis=1)"
   ]
  },
  {
   "cell_type": "markdown",
   "id": "8fe40454",
   "metadata": {},
   "source": [
    "### Language\n"
   ]
  },
  {
   "cell_type": "code",
   "execution_count": 29,
   "id": "fd95b664",
   "metadata": {},
   "outputs": [
    {
     "name": "stdout",
     "output_type": "stream",
     "text": [
      "['eng', 'en-US', 'fre', 'spa', 'en-GB', 'mul', 'grc', 'enm', 'en-CA', 'ger', 'jpn', 'ara', 'nl', 'zho', 'lat', 'por', 'srp', 'ita', 'rus', 'msa', 'glg', 'wel', 'swe', 'nor', 'tur', 'gla', 'ale']\n"
     ]
    }
   ],
   "source": [
    "unique_languages = list(df[\"language_code\"].unique())\n",
    "print(unique_languages)"
   ]
  },
  {
   "cell_type": "code",
   "execution_count": 30,
   "id": "76ed731e",
   "metadata": {},
   "outputs": [
    {
     "data": {
      "image/png": "[encoded data removed]",
      "text/plain": [
       "<Figure size 1152x1152 with 1 Axes>"
      ]
     },
     "metadata": {
      "needs_background": "light"
     },
     "output_type": "display_data"
    }
   ],
   "source": [
    "plt.figure(figsize=(16, 16))\n",
    "plt.hist(df[\"language_code\"], bins=len(unique_languages))\n",
    "plt.yscale(\"log\")"
   ]
  },
  {
   "cell_type": "markdown",
   "id": "da42178d",
   "metadata": {},
   "source": [
    "We notice that most books are written in english. We can maybe make a split \"english\" / \"foreign\" ? In addition, we would like to have only numerical values, thus separating it into a binary values (0 for english and 1 for foreign)"
   ]
  },
  {
   "cell_type": "code",
   "execution_count": 31,
   "id": "45898d74",
   "metadata": {},
   "outputs": [],
   "source": [
    "def sort_english(language_code):\n",
    "    if language_code in ['eng', 'en-US', 'en-GB', 'en-CA', \"enm\"]:\n",
    "        return 0\n",
    "    else:\n",
    "        return 1"
   ]
  },
  {
   "cell_type": "code",
   "execution_count": 32,
   "id": "0ac39432",
   "metadata": {},
   "outputs": [],
   "source": [
    "df[\"language\"] = df[\"language_code\"].apply(sort_english)"
   ]
  },
  {
   "cell_type": "code",
   "execution_count": 33,
   "id": "4632a3fc",
   "metadata": {},
   "outputs": [
    {
     "name": "stdout",
     "output_type": "stream",
     "text": [
      "There are 583 foreign books (5.241 %)\n"
     ]
    }
   ],
   "source": [
    "nb_foreign = df[df[\"language\"] == 1].shape[0]\n",
    "print(f\"There are {nb_foreign} foreign books ({round(100 * nb_foreign / df.shape[0], 3)} %)\")"
   ]
  },
  {
   "cell_type": "code",
   "execution_count": 34,
   "id": "c74da87e",
   "metadata": {},
   "outputs": [],
   "source": [
    "# Removing original language code data from dataframe \n",
    "df = df.drop(\"language_code\", axis=1)"
   ]
  },
  {
   "cell_type": "markdown",
   "id": "87e6e397",
   "metadata": {},
   "source": [
    "### Title, publisher and author data"
   ]
  },
  {
   "cell_type": "markdown",
   "id": "d16e2c4c",
   "metadata": {},
   "source": [
    "Can we use the data containing the author and publisher names and titles ? First let's see how many different authors, publishers and titles we have"
   ]
  },
  {
   "cell_type": "code",
   "execution_count": 35,
   "id": "03a75a1b",
   "metadata": {},
   "outputs": [],
   "source": [
    "tot_publisher = len(df[\"publisher\"].unique())\n",
    "tot_authors = len(df[\"publisher\"].unique())\n",
    "tot_titles = len(df[\"title\"].unique())"
   ]
  },
  {
   "cell_type": "code",
   "execution_count": 36,
   "id": "988c5b44",
   "metadata": {},
   "outputs": [
    {
     "name": "stdout",
     "output_type": "stream",
     "text": [
      "There is a total of 2290 authors\n",
      "There is a total of 2290 publishers\n",
      "There is a total of 10348 titles\n"
     ]
    }
   ],
   "source": [
    "print(f\"There is a total of {tot_authors} authors\")\n",
    "print(f\"There is a total of {tot_publisher} publishers\")\n",
    "print(f\"There is a total of {tot_titles} titles\")"
   ]
  },
  {
   "cell_type": "markdown",
   "id": "9b71ed80",
   "metadata": {},
   "source": [
    "If we wanted to use this data as features, we would have to convert it to numerical values. There is no practical way to convert tousands of names into quantifiable metrics. Thus, we will not use the titles and publisher and author names in our modeling"
   ]
  },
  {
   "cell_type": "code",
   "execution_count": 37,
   "id": "74a0f473",
   "metadata": {},
   "outputs": [],
   "source": [
    "# Removing titles, authors and publishers from the dataframe\n",
    "df = df.drop([\"authors\", \"publisher\", \"title\"], axis=1)"
   ]
  },
  {
   "cell_type": "code",
   "execution_count": 38,
   "id": "c66a4987",
   "metadata": {},
   "outputs": [
    {
     "data": {
      "text/plain": [
       "Index(['average_rating', 'num_pages', 'ratings_count', 'text_reviews_count',\n",
       "       'normalised_age', 'language'],\n",
       "      dtype='object')"
      ]
     },
     "execution_count": 38,
     "metadata": {},
     "output_type": "execute_result"
    }
   ],
   "source": [
    "df.columns"
   ]
  },
  {
   "cell_type": "markdown",
   "id": "a47c3551",
   "metadata": {},
   "source": [
    "### Outliers"
   ]
  },
  {
   "cell_type": "code",
   "execution_count": 39,
   "id": "acc1377f",
   "metadata": {},
   "outputs": [],
   "source": [
    "df_no_outliers = df.copy()"
   ]
  },
  {
   "cell_type": "code",
   "execution_count": 40,
   "id": "59af05e1",
   "metadata": {
    "scrolled": true
   },
   "outputs": [
    {
     "data": {
      "image/png": "[encoded data removed]",
      "text/plain": [
       "<Figure size 576x576 with 1 Axes>"
      ]
     },
     "metadata": {
      "needs_background": "light"
     },
     "output_type": "display_data"
    }
   ],
   "source": [
    "plt.figure(figsize=(8, 8))\n",
    "sns.boxplot(y=df[\"num_pages\"])\n",
    "plt.yscale(\"log\")\n",
    "plt.show()"
   ]
  },
  {
   "cell_type": "code",
   "execution_count": 41,
   "id": "3aa55fe6",
   "metadata": {},
   "outputs": [
    {
     "data": {
      "text/plain": [
       "12"
      ]
     },
     "execution_count": 41,
     "metadata": {},
     "output_type": "execute_result"
    }
   ],
   "source": [
    "df[df[\"num_pages\"] > 2e3].shape[0]"
   ]
  },
  {
   "cell_type": "code",
   "execution_count": 42,
   "id": "cfc16a1a",
   "metadata": {},
   "outputs": [],
   "source": [
    "df_no_outliers = df_no_outliers[df_no_outliers[\"num_pages\"] < 2e3]"
   ]
  },
  {
   "cell_type": "code",
   "execution_count": 43,
   "id": "b3982f5c",
   "metadata": {},
   "outputs": [
    {
     "data": {
      "image/png": "[encoded data removed]",
      "text/plain": [
       "<Figure size 576x576 with 1 Axes>"
      ]
     },
     "metadata": {
      "needs_background": "light"
     },
     "output_type": "display_data"
    }
   ],
   "source": [
    "plt.figure(figsize=(8, 8))\n",
    "sns.boxplot(y=df['ratings_count'])\n",
    "plt.yscale(\"log\")\n",
    "plt.show()"
   ]
  },
  {
   "cell_type": "code",
   "execution_count": 44,
   "id": "cb5d0e41",
   "metadata": {},
   "outputs": [
    {
     "data": {
      "text/plain": [
       "352"
      ]
     },
     "execution_count": 44,
     "metadata": {},
     "output_type": "execute_result"
    }
   ],
   "source": [
    "df[df[\"ratings_count\"] > 1e5].shape[0]"
   ]
  },
  {
   "cell_type": "code",
   "execution_count": 45,
   "id": "b8995e9c",
   "metadata": {},
   "outputs": [],
   "source": [
    "df_no_outliers = df_no_outliers[df_no_outliers[\"ratings_count\"] < 1e5]"
   ]
  },
  {
   "cell_type": "code",
   "execution_count": 46,
   "id": "1fa8fcec",
   "metadata": {},
   "outputs": [
    {
     "data": {
      "image/png": "[encoded data removed]",
      "text/plain": [
       "<Figure size 576x576 with 1 Axes>"
      ]
     },
     "metadata": {
      "needs_background": "light"
     },
     "output_type": "display_data"
    }
   ],
   "source": [
    "plt.figure(figsize=(8, 8))\n",
    "sns.boxplot(y=df[\"text_reviews_count\"])\n",
    "plt.yscale(\"log\")\n",
    "plt.show()"
   ]
  },
  {
   "cell_type": "code",
   "execution_count": 47,
   "id": "1f23f25f",
   "metadata": {},
   "outputs": [
    {
     "data": {
      "text/plain": [
       "94"
      ]
     },
     "execution_count": 47,
     "metadata": {},
     "output_type": "execute_result"
    }
   ],
   "source": [
    "df[df[\"text_reviews_count\"] > 1e4].shape[0]"
   ]
  },
  {
   "cell_type": "code",
   "execution_count": 48,
   "id": "20ec82ac",
   "metadata": {},
   "outputs": [],
   "source": [
    "df_no_outliers = df_no_outliers[df_no_outliers[\"text_reviews_count\"] < 1e4]"
   ]
  },
  {
   "cell_type": "code",
   "execution_count": 49,
   "id": "03656ae6",
   "metadata": {},
   "outputs": [
    {
     "data": {
      "image/png": "[encoded data removed]",
      "text/plain": [
       "<Figure size 576x576 with 1 Axes>"
      ]
     },
     "metadata": {
      "needs_background": "light"
     },
     "output_type": "display_data"
    }
   ],
   "source": [
    "plt.figure(figsize=(8, 8))\n",
    "sns.boxplot(y=df['normalised_age'])\n",
    "plt.show()"
   ]
  },
  {
   "cell_type": "code",
   "execution_count": 50,
   "id": "003f15f2",
   "metadata": {},
   "outputs": [
    {
     "data": {
      "text/plain": [
       "52"
      ]
     },
     "execution_count": 50,
     "metadata": {},
     "output_type": "execute_result"
    }
   ],
   "source": [
    "df[df[\"normalised_age\"] < 0.5].shape[0]"
   ]
  },
  {
   "cell_type": "code",
   "execution_count": 51,
   "id": "e0d32566",
   "metadata": {},
   "outputs": [],
   "source": [
    "df_no_outliers = df_no_outliers[df_no_outliers[\"normalised_age\"] > 0.5]"
   ]
  },
  {
   "cell_type": "code",
   "execution_count": 52,
   "id": "58da0c58",
   "metadata": {},
   "outputs": [
    {
     "name": "stdout",
     "output_type": "stream",
     "text": [
      "We have kept 10708 rows of data, (96.27 %)\n"
     ]
    }
   ],
   "source": [
    "print(f\"We have kept {df_no_outliers.shape[0]} rows of data, ({round(100 * df_no_outliers.shape[0] / df.shape[0], 2)} %)\")"
   ]
  },
  {
   "cell_type": "markdown",
   "id": "141b1712",
   "metadata": {},
   "source": [
    "After removing outliers, we have a total of 10708 rows, which is enough to do substantial machine learnign modeling"
   ]
  },
  {
   "cell_type": "code",
   "execution_count": 53,
   "id": "1c2ee558",
   "metadata": {},
   "outputs": [
    {
     "data": {
      "text/plain": [
       "Index(['average_rating', 'num_pages', 'ratings_count', 'text_reviews_count',\n",
       "       'normalised_age', 'language'],\n",
       "      dtype='object')"
      ]
     },
     "execution_count": 53,
     "metadata": {},
     "output_type": "execute_result"
    }
   ],
   "source": [
    "df.columns"
   ]
  },
  {
   "cell_type": "markdown",
   "id": "c522ed69",
   "metadata": {},
   "source": [
    "### Conclusion\n",
    "\n",
    "We have kept the following features:\n",
    "- average_rating (target feature)\n",
    "- num_pages\n",
    "- ratings_count\n",
    "- text_reviews_count\n",
    "- normalised_age\n",
    "- language"
   ]
  },
  {
   "cell_type": "markdown",
   "id": "c7cca644",
   "metadata": {},
   "source": [
    "## Data modeling "
   ]
  },
  {
   "cell_type": "markdown",
   "id": "256dd2b0",
   "metadata": {},
   "source": [
    "In order to predict the `average_rating`, we're going to split our dataset in two to have a first trainning set and a second test set. We'll also divide our data in two: on the one hand, the explanatory variables: \n",
    "\n",
    "- `num_pages`\n",
    "- `ratings_count`\n",
    "- `text_reviews_count`\n",
    "- `normalised_age`\n",
    "- `language`\n",
    "\n",
    "and on the other hand, the variable to be predicted: `average_rating`"
   ]
  },
  {
   "cell_type": "code",
   "execution_count": 54,
   "id": "b5e354e9",
   "metadata": {},
   "outputs": [],
   "source": [
    "from sklearn.ensemble import RandomForestRegressor \n",
    "from sklearn.model_selection import train_test_split\n",
    "from sklearn.metrics import mean_absolute_error, max_error, mean_squared_error, r2_score, explained_variance_score\n",
    "import matplotlib.pyplot as plt"
   ]
  },
  {
   "cell_type": "markdown",
   "id": "701f6007",
   "metadata": {},
   "source": [
    "Giving 20% for test and 80% for training"
   ]
  },
  {
   "cell_type": "code",
   "execution_count": 55,
   "id": "2b7dceb7",
   "metadata": {},
   "outputs": [],
   "source": [
    "df_train, df_test =  train_test_split(df, test_size = 0.2, random_state=42)"
   ]
  },
  {
   "cell_type": "code",
   "execution_count": 56,
   "id": "b62bf3cf",
   "metadata": {},
   "outputs": [
    {
     "name": "stdout",
     "output_type": "stream",
     "text": [
      "11123\n",
      "2225\n"
     ]
    },
    {
     "data": {
      "text/plain": [
       "8898"
      ]
     },
     "execution_count": 56,
     "metadata": {},
     "output_type": "execute_result"
    }
   ],
   "source": [
    "print(len(df))\n",
    "print(len(df_test))\n",
    "len(df_train)"
   ]
  },
  {
   "cell_type": "code",
   "execution_count": 57,
   "id": "2e35a588",
   "metadata": {},
   "outputs": [
    {
     "data": {
      "text/plain": [
       "Index(['average_rating', 'num_pages', 'ratings_count', 'text_reviews_count',\n",
       "       'normalised_age', 'language'],\n",
       "      dtype='object')"
      ]
     },
     "execution_count": 57,
     "metadata": {},
     "output_type": "execute_result"
    }
   ],
   "source": [
    "df_train.columns"
   ]
  },
  {
   "cell_type": "code",
   "execution_count": 58,
   "id": "cd1fd988",
   "metadata": {},
   "outputs": [],
   "source": [
    "# get the values of the explanatory variables for the training data\n",
    "X_train = df_train.loc[:,['num_pages', 'ratings_count', 'text_reviews_count',\n",
    "       'normalised_age', 'language']].values\n",
    "#the values of the variable to be predicted \n",
    "y_train = df_train.average_rating.values\n",
    "\n",
    "# get the values of the explanatory variables  for the test data\n",
    "X_test = df_test.loc[:,['num_pages', 'ratings_count', 'text_reviews_count',\n",
    "       'normalised_age', 'language']].values\n",
    "#the values of the variable to be predicted \n",
    "y_test = df_test.average_rating.values"
   ]
  },
  {
   "cell_type": "code",
   "execution_count": 59,
   "id": "11a440eb",
   "metadata": {},
   "outputs": [
    {
     "data": {
      "text/plain": [
       "array([3.85, 3.97, 3.92, ..., 4.  , 3.75, 4.32])"
      ]
     },
     "execution_count": 59,
     "metadata": {},
     "output_type": "execute_result"
    }
   ],
   "source": [
    "df_test.average_rating.values"
   ]
  },
  {
   "cell_type": "code",
   "execution_count": 60,
   "id": "8f543955",
   "metadata": {},
   "outputs": [],
   "source": [
    "#here we create linear regression model and train it \n",
    "RF_model = RandomForestRegressor(\n",
    "    n_estimators=100,\n",
    ")\n",
    "RF_model.fit(X_train, y_train)\n",
    "RF_predict = RF_model.predict(X_test)"
   ]
  },
  {
   "cell_type": "markdown",
   "id": "2b2d7e61",
   "metadata": {},
   "source": [
    "### Let's plot  the result"
   ]
  },
  {
   "cell_type": "code",
   "execution_count": 61,
   "id": "3b4b8793",
   "metadata": {},
   "outputs": [],
   "source": [
    "from sklearn.metrics import mean_absolute_error, max_error, mean_squared_error, r2_score, explained_variance_score\n",
    "import matplotlib.pyplot as plt\n",
    "\n",
    "\n",
    "def evaluate_model(y_true, y_predict, model_name, model_parameters=\"\", plot_sample=True, scatter_plot=True):\n",
    "    print(f\"Evaluating {model_name} model\", end=\" \")\n",
    "    if model_parameters != \"\":\n",
    "        print(f\"with parameters :\\n{model_parameters}\")\n",
    "    \n",
    "    if plot_sample:\n",
    "        fig = pd.DataFrame({'Real': y_test.tolist(), 'Predicted': y_predict.tolist()}).head(20)\n",
    "        fig.plot(kind='bar', figsize=(8, 4))\n",
    "    \n",
    "    if scatter_plot:\n",
    "        plt.figure(figsize=(8, 8))\n",
    "        plt.plot(y_test, y_predict, ls=\"\", marker=\"x\", ms=2)\n",
    "        plt.plot([0, 5],[0, 5], alpha=0.5)\n",
    "        plt.xlabel(\"Real values\")\n",
    "        plt.ylabel(\"Predicted values\")\n",
    "        plt.xlim([0, 5])\n",
    "        plt.ylim([0, 5])\n",
    "        plt.show()\n",
    "\n",
    "    evaluation = dict()\n",
    "    \n",
    "    evaluation[\"RMSE\"] = mean_squared_error(y_true, y_predict, squared=False)\n",
    "    evaluation[\"absolute_error\"] = mean_absolute_error(y_true, y_predict)\n",
    "    evaluation[\"max_error\"] = max_error(y_true, y_predict)\n",
    "    evaluation[\"r2_score\"] = r2_score(y_true, y_predict)\n",
    "    evaluation[\"explained_variance_score\"] = explained_variance_score(y_true, y_predict)\n",
    "    \n",
    "    for key in evaluation.keys():\n",
    "        print(f\"{key} : {round(evaluation[key], 3)}\")\n",
    "    \n",
    "    return evaluation"
   ]
  },
  {
   "cell_type": "code",
   "execution_count": 62,
   "id": "35327ca0",
   "metadata": {},
   "outputs": [
    {
     "name": "stdout",
     "output_type": "stream",
     "text": [
      "Evaluating Random Forest model with parameters :\n",
      "n_predictors: 100\n",
      "5 features\n"
     ]
    },
    {
     "data": {
      "image/png": "[encoded data removed]",
      "text/plain": [
       "<Figure size 576x288 with 1 Axes>"
      ]
     },
     "metadata": {
      "needs_background": "light"
     },
     "output_type": "display_data"
    },
    {
     "data": {
      "image/png": "[encoded data removed]",
      "text/plain": [
       "<Figure size 576x576 with 1 Axes>"
      ]
     },
     "metadata": {
      "needs_background": "light"
     },
     "output_type": "display_data"
    },
    {
     "name": "stdout",
     "output_type": "stream",
     "text": [
      "RMSE : 0.34\n",
      "absolute_error : 0.223\n",
      "max_error : 3.679\n",
      "r2_score : 0.081\n",
      "explained_variance_score : 0.081\n"
     ]
    }
   ],
   "source": [
    "random_forest_eval = evaluate_model(y_test, RF_predict, \"Random Forest\", \"n_predictors: 100\\n5 features\")"
   ]
  },
  {
   "cell_type": "code",
   "execution_count": 63,
   "id": "be2dc7a7",
   "metadata": {},
   "outputs": [],
   "source": [
    "# get the values of the explanatory variables for the training data\n",
    "X_train_2 = df_train.loc[:,['num_pages', 'ratings_count', 'text_reviews_count',]].values\n",
    "#the values of the variable to be predicted \n",
    "y_train_2 = df_train.average_rating.values\n",
    "\n",
    "# get the values of the explanatory variables  for the test data\n",
    "X_test_2 = df_test.loc[:,['num_pages', 'ratings_count', 'text_reviews_count',]].values\n",
    "#the values of the variable to be predicted \n",
    "y_test_2 = df_test.average_rating.values\n",
    "\n",
    "\n",
    "RF_model_2 = RandomForestRegressor(\n",
    "    n_estimators=100,\n",
    ")\n",
    "RF_model_2.fit(X_train_2, y_train_2)\n",
    "RF_predict_2 = RF_model_2.predict(X_test_2)"
   ]
  },
  {
   "cell_type": "code",
   "execution_count": 64,
   "id": "eb33fbc5",
   "metadata": {},
   "outputs": [
    {
     "name": "stdout",
     "output_type": "stream",
     "text": [
      "Evaluating Random Forest model with parameters :\n",
      "n_predictors: 100\n",
      "3 features\n"
     ]
    },
    {
     "data": {
      "image/png": "[encoded data removed]",
      "text/plain": [
       "<Figure size 576x288 with 1 Axes>"
      ]
     },
     "metadata": {
      "needs_background": "light"
     },
     "output_type": "display_data"
    },
    {
     "data": {
      "image/png": "[encoded data removed]",
      "text/plain": [
       "<Figure size 576x576 with 1 Axes>"
      ]
     },
     "metadata": {
      "needs_background": "light"
     },
     "output_type": "display_data"
    },
    {
     "name": "stdout",
     "output_type": "stream",
     "text": [
      "RMSE : 0.355\n",
      "absolute_error : 0.231\n",
      "max_error : 4.33\n",
      "r2_score : 0.0\n",
      "explained_variance_score : 0.0\n"
     ]
    }
   ],
   "source": [
    "random_forest_eval_2 = evaluate_model(y_test_2, RF_predict_2, \"Random Forest\", \"n_predictors: 100\\n3 features\")"
   ]
  },
  {
   "cell_type": "code",
   "execution_count": 65,
   "id": "d75d0e5a",
   "metadata": {},
   "outputs": [
    {
     "name": "stdout",
     "output_type": "stream",
     "text": [
      "{'RMSE': 0.34049222920400785, 'absolute_error': 0.2232284943820225, 'max_error': 3.679099999999999, 'r2_score': 0.08109172801011888, 'explained_variance_score': 0.08111447595531451}\n",
      "{'RMSE': 0.35514580623368996, 'absolute_error': 0.23069109452470124, 'max_error': 4.33, 'r2_score': 0.0002966837814355472, 'explained_variance_score': 0.00030621054694934813}\n"
     ]
    }
   ],
   "source": [
    "print(random_forest_eval)\n",
    "print(random_forest_eval_2)"
   ]
  },
  {
   "cell_type": "code",
   "execution_count": null,
   "id": "ccef09ca",
   "metadata": {},
   "outputs": [],
   "source": []
  }
 ],
 "metadata": {
  "kernelspec": {
   "display_name": "Python 3 (ipykernel)",
   "language": "python",
   "name": "python3"
  },
  "language_info": {
   "codemirror_mode": {
    "name": "ipython",
    "version": 3
   },
   "file_extension": ".py",
   "mimetype": "text/x-python",
   "name": "python",
   "nbconvert_exporter": "python",
   "pygments_lexer": "ipython3",
   "version": "3.9.15"
  }
 },
 "nbformat": 4,
 "nbformat_minor": 5
}
